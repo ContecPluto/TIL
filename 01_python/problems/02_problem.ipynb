{
 "cells": [
  {
   "cell_type": "markdown",
   "metadata": {},
   "source": [
    "# 과일 개수 골라내기\n",
    "\n",
    "> 장바구니에 아래와 같은 과일이 들어있고 과일 판별 리스트가 있습니다.\n",
    "\n",
    "```python\n",
    "basket_items = {'apples': 4, 'oranges': 19, 'kites': 3, 'sandwiches': 8}\n",
    "\n",
    "fruits = ['apples', 'oranges', 'pears', 'peaches', 'grapes', 'bananas']\n",
    "\n",
    "```\n",
    "> 현재 장바구니에는 과일이 몇개이고 과일이 아닌 것은 몇개인지 출력하시오.\n",
    "---\n",
    "```\n",
    "예시 출력)\n",
    "과일은 23개이고, 11개는 과일이 아닙니다..\n",
    "```"
   ]
  },
  {
   "cell_type": "code",
   "execution_count": 39,
   "metadata": {},
   "outputs": [
    {
     "name": "stdout",
     "output_type": "stream",
     "text": [
      "과일은 23개 이고, 11개는 과일이 아닙니다.\n"
     ]
    }
   ],
   "source": [
    "basket_items = {'apples': 4, 'oranges': 19, 'kites': 3, 'sandwiches': 8}\n",
    "fruits = ['apples', 'oranges', 'pears', 'peaches', 'grapes', 'bananas']\n",
    "# 아래에 코드를 작성하세요.\n",
    "fruit = 0\n",
    "not_fruit =0\n",
    "for key,value in basket_items.items():\n",
    "    if key in fruits:\n",
    "        fruit += value\n",
    "    else:\n",
    "        not_fruit += value\n",
    "print(f'과일은 {fruit}개 이고, {not_fruit}개는 과일이 아닙니다.')"
   ]
  },
  {
   "cell_type": "markdown",
   "metadata": {},
   "source": [
    "# 영어 이름 출력하기 \n",
    "\n",
    "> 영어 이름은 가운데 이름을 가지고 있는 경우가 있습니다.\n",
    ">\n",
    "> 가운데 이름은 대문자로 축약해서 나타내는 코드를 작성해보세요.\n",
    "\n",
    "---\n",
    "```\n",
    "예시 입력)\n",
    "Alice Betty Catherine Davis\n",
    "```\n",
    "```\n",
    "예시 출력)\n",
    "Alice B. C. Davis\n",
    "```"
   ]
  },
  {
   "cell_type": "code",
   "execution_count": 281,
   "metadata": {},
   "outputs": [
    {
     "name": "stdout",
     "output_type": "stream",
     "text": [
      "Alice B. C. Davis"
     ]
    }
   ],
   "source": [
    "# 아래에 코드를 작성하세요.\n",
    "names = 'Alice Betty Catherine Davis'\n",
    "name = names.split(' ')\n",
    "first_name = name[0:1:]\n",
    "last_name = name[len(name)-1:len(name):]\n",
    "midle_name = name[1:len(name)-1:]\n",
    "real_midel = ''\n",
    "for i in range(len(midle_name)):\n",
    "    real_midel += midle_name[i][:1:]+ '. '\n",
    "\n",
    "for i in first_name:\n",
    "    print(i, end='')\n",
    "print(' ',end='')\n",
    "print(real_midel, end='')\n",
    "for i in last_name:\n",
    "    print(i,end='')"
   ]
  },
  {
   "cell_type": "code",
   "execution_count": 324,
   "metadata": {},
   "outputs": [
    {
     "name": "stdout",
     "output_type": "stream",
     "text": [
      "Alice B. C. Davis\n"
     ]
    }
   ],
   "source": [
    "names = 'Alice Betty Catherine Davis'\n",
    "name = names.split(' ')\n",
    "\n",
    "print(name[0:1][0], end=' ') #first name\n",
    "for i in name[1:len(name)-1]: #middle name\n",
    "    print(i[0],end='. ')\n",
    "print(name[len(name)-1:len(name)][0]) #last name"
   ]
  },
  {
   "cell_type": "markdown",
   "metadata": {},
   "source": [
    "# 구구단 출력하기\n",
    "> 2단부터 9단까지 반복문을 사용하여 구구단을 출력하세요.\n",
    "---\n",
    "```\n",
    "예시 출력)\n",
    "------- [2 단] -------\n",
    "2 X 1 = 2\n",
    "2 X 2 = 4\n",
    "2 X 3 = 6\n",
    "2 X 4 = 8\n",
    "2 X 5 = 10\n",
    "2 X 6 = 12\n",
    "2 X 7 = 14\n",
    "2 X 8 = 16\n",
    "2 X 9 = 18\n",
    "\n",
    "------- [3 단] -------\n",
    "...\n",
    "```"
   ]
  },
  {
   "cell_type": "code",
   "execution_count": 328,
   "metadata": {},
   "outputs": [
    {
     "name": "stdout",
     "output_type": "stream",
     "text": [
      "------- 2단 -------\n",
      "     2 X 1 = 2\n",
      "     2 X 2 = 4\n",
      "     2 X 3 = 6\n",
      "     2 X 4 = 8\n",
      "     2 X 5 = 10\n",
      "     2 X 6 = 12\n",
      "     2 X 7 = 14\n",
      "     2 X 8 = 16\n",
      "     2 X 9 = 18\n",
      "------- 3단 -------\n",
      "     3 X 1 = 3\n",
      "     3 X 2 = 6\n",
      "     3 X 3 = 9\n",
      "     3 X 4 = 12\n",
      "     3 X 5 = 15\n",
      "     3 X 6 = 18\n",
      "     3 X 7 = 21\n",
      "     3 X 8 = 24\n",
      "     3 X 9 = 27\n",
      "------- 4단 -------\n",
      "     4 X 1 = 4\n",
      "     4 X 2 = 8\n",
      "     4 X 3 = 12\n",
      "     4 X 4 = 16\n",
      "     4 X 5 = 20\n",
      "     4 X 6 = 24\n",
      "     4 X 7 = 28\n",
      "     4 X 8 = 32\n",
      "     4 X 9 = 36\n",
      "------- 5단 -------\n",
      "     5 X 1 = 5\n",
      "     5 X 2 = 10\n",
      "     5 X 3 = 15\n",
      "     5 X 4 = 20\n",
      "     5 X 5 = 25\n",
      "     5 X 6 = 30\n",
      "     5 X 7 = 35\n",
      "     5 X 8 = 40\n",
      "     5 X 9 = 45\n",
      "------- 6단 -------\n",
      "     6 X 1 = 6\n",
      "     6 X 2 = 12\n",
      "     6 X 3 = 18\n",
      "     6 X 4 = 24\n",
      "     6 X 5 = 30\n",
      "     6 X 6 = 36\n",
      "     6 X 7 = 42\n",
      "     6 X 8 = 48\n",
      "     6 X 9 = 54\n",
      "------- 7단 -------\n",
      "     7 X 1 = 7\n",
      "     7 X 2 = 14\n",
      "     7 X 3 = 21\n",
      "     7 X 4 = 28\n",
      "     7 X 5 = 35\n",
      "     7 X 6 = 42\n",
      "     7 X 7 = 49\n",
      "     7 X 8 = 56\n",
      "     7 X 9 = 63\n",
      "------- 8단 -------\n",
      "     8 X 1 = 8\n",
      "     8 X 2 = 16\n",
      "     8 X 3 = 24\n",
      "     8 X 4 = 32\n",
      "     8 X 5 = 40\n",
      "     8 X 6 = 48\n",
      "     8 X 7 = 56\n",
      "     8 X 8 = 64\n",
      "     8 X 9 = 72\n",
      "------- 9단 -------\n",
      "     9 X 1 = 9\n",
      "     9 X 2 = 18\n",
      "     9 X 3 = 27\n",
      "     9 X 4 = 36\n",
      "     9 X 5 = 45\n",
      "     9 X 6 = 54\n",
      "     9 X 7 = 63\n",
      "     9 X 8 = 72\n",
      "     9 X 9 = 81\n"
     ]
    }
   ],
   "source": [
    "# 아래에 코드를 작성하세요.\n",
    "for i in range(1,10):\n",
    "    if i !=1:\n",
    "        print(f'------- {i}단 -------')\n",
    "        for j in range(1,10):\n",
    "            print(f'     {i} X {j} = {int(i)*int(j)}')"
   ]
  },
  {
   "cell_type": "markdown",
   "metadata": {},
   "source": [
    "# 달력 출력하기\n",
    "\n",
    "> 1월 1일 월요일부터 12월 31일까지 달력을 출력하세요.\n",
    "\n",
    "---\n",
    "```\n",
    "예시 출력)\n",
    "         1 월\n",
    "Mo Tu We Th Fr Sa Su \n",
    " 1  2  3  4  5  6  7 \n",
    " 8  9 10 11 12 13 14 \n",
    "15 16 17 18 19 20 21 \n",
    "22 23 24 25 26 27 28 \n",
    "29 30 31 \n",
    "         2 월\n",
    "Mo Tu We Th Fr Sa Su \n",
    " 1  2  3  4  5  6  7 \n",
    " 8  9 10 11 12 13 14 \n",
    "15 16 17 18 19 20 21 \n",
    "22 23 24 25 26 27 28 \n",
    "\n",
    "         3 월\n",
    "Mo Tu We Th Fr Sa Su \n",
    " 1  2  3  4  5  6  7 \n",
    " 8  9 10 11 12 13 14 \n",
    "15 16 17 18 19 20 21 \n",
    "22 23 24 25 26 27 28 \n",
    "29 30 31\n",
    "...\n",
    "```"
   ]
  },
  {
   "cell_type": "code",
   "execution_count": 372,
   "metadata": {},
   "outputs": [
    {
     "name": "stdout",
     "output_type": "stream",
     "text": [
      "         1월\n",
      "Mo Tu We Th Fr Sa Su \n",
      " 1  2  3  4  5  6  7 \n",
      " 8  9 10 11 12 13 14 \n",
      "15 16 17 18 19 20 21 \n",
      "22 23 24 25 26 27 28 \n",
      "29 30 31 \n",
      "         2월\n",
      "Mo Tu We Th Fr Sa Su \n",
      " 1  2  3  4  5  6  7 \n",
      " 8  9 10 11 12 13 14 \n",
      "15 16 17 18 19 20 21 \n",
      "22 23 24 25 26 27 28 \n",
      "\n",
      "         3월\n",
      "Mo Tu We Th Fr Sa Su \n",
      " 1  2  3  4  5  6  7 \n",
      " 8  9 10 11 12 13 14 \n",
      "15 16 17 18 19 20 21 \n",
      "22 23 24 25 26 27 28 \n",
      "29 30 31 \n",
      "         4월\n",
      "Mo Tu We Th Fr Sa Su \n",
      " 1  2  3  4  5  6  7 \n",
      " 8  9 10 11 12 13 14 \n",
      "15 16 17 18 19 20 21 \n",
      "22 23 24 25 26 27 28 \n",
      "29 30 \n",
      "         5월\n",
      "Mo Tu We Th Fr Sa Su \n",
      " 1  2  3  4  5  6  7 \n",
      " 8  9 10 11 12 13 14 \n",
      "15 16 17 18 19 20 21 \n",
      "22 23 24 25 26 27 28 \n",
      "29 30 31 \n",
      "         6월\n",
      "Mo Tu We Th Fr Sa Su \n",
      " 1  2  3  4  5  6  7 \n",
      " 8  9 10 11 12 13 14 \n",
      "15 16 17 18 19 20 21 \n",
      "22 23 24 25 26 27 28 \n",
      "29 30 \n",
      "         7월\n",
      "Mo Tu We Th Fr Sa Su \n",
      " 1  2  3  4  5  6  7 \n",
      " 8  9 10 11 12 13 14 \n",
      "15 16 17 18 19 20 21 \n",
      "22 23 24 25 26 27 28 \n",
      "29 30 31 \n",
      "         8월\n",
      "Mo Tu We Th Fr Sa Su \n",
      " 1  2  3  4  5  6  7 \n",
      " 8  9 10 11 12 13 14 \n",
      "15 16 17 18 19 20 21 \n",
      "22 23 24 25 26 27 28 \n",
      "29 30 31 \n",
      "         9월\n",
      "Mo Tu We Th Fr Sa Su \n",
      " 1  2  3  4  5  6  7 \n",
      " 8  9 10 11 12 13 14 \n",
      "15 16 17 18 19 20 21 \n",
      "22 23 24 25 26 27 28 \n",
      "29 30 \n",
      "         10월\n",
      "Mo Tu We Th Fr Sa Su \n",
      " 1  2  3  4  5  6  7 \n",
      " 8  9 10 11 12 13 14 \n",
      "15 16 17 18 19 20 21 \n",
      "22 23 24 25 26 27 28 \n",
      "29 30 31 \n",
      "         11월\n",
      "Mo Tu We Th Fr Sa Su \n",
      " 1  2  3  4  5  6  7 \n",
      " 8  9 10 11 12 13 14 \n",
      "15 16 17 18 19 20 21 \n",
      "22 23 24 25 26 27 28 \n",
      "29 30 \n",
      "         12월\n",
      "Mo Tu We Th Fr Sa Su \n",
      " 1  2  3  4  5  6  7 \n",
      " 8  9 10 11 12 13 14 \n",
      "15 16 17 18 19 20 21 \n",
      "22 23 24 25 26 27 28 \n",
      "29 30 31 \n"
     ]
    }
   ],
   "source": [
    "calendar = { \n",
    "        1: 31, 2: 28, 3: 31, 4: 30, 5: 31,6: 30, \n",
    "        7: 31, 8: 31, 9: 30, 10: 31, 11: 30, 12: 31 \n",
    "} \n",
    "weeks = ['Mo', 'Tu', 'We', 'Th', 'Fr', 'Sa', 'Su']\n",
    "# 아래에 코드를 작성하세요.\n",
    "for key,value in calendar.items():\n",
    "    print(f'         {key}월')\n",
    "    for i in range(7):\n",
    "        print(weeks[i], end=' ')\n",
    "    print('')\n",
    "    for i in range(1,value+1):\n",
    "        if i<10:\n",
    "            print(f' {i}', end=' ')\n",
    "            if i%7==0:\n",
    "                print('')\n",
    "        else:\n",
    "            print(i, end=' ')\n",
    "            if i%7==0:\n",
    "                print('')\n",
    "    print('')"
   ]
  },
  {
   "cell_type": "markdown",
   "metadata": {},
   "source": [
    "# 개인정보보호\n",
    "> 사용자의 핸드폰번호를 입력 받으려고한다. 개인정보 보호를 위하여 뒷자리 4자리를 제외하고는 마스킹 처리를 하려고한다.\n",
    ">\n",
    "> 핸드폰번호는 010으로 시작해야하고 11자리여야한다. 핸드폰번호를 입력하지 않았다면 \"핸드폰번호를 입력하세요\"를 출력한다\n",
    "\n",
    "```\n",
    "예시 입력)\n",
    "01012341234\n",
    "예시 출력)\n",
    "*******1234\n",
    "```"
   ]
  },
  {
   "cell_type": "code",
   "execution_count": 256,
   "metadata": {},
   "outputs": [
    {
     "name": "stdout",
     "output_type": "stream",
     "text": [
      "*******1234\n"
     ]
    }
   ],
   "source": [
    "# 아래에 코드를 작성하세요.\n",
    "\n",
    "# phone_number = input('')\n",
    "phone_number = '01012341234'\n",
    "last_number=phone_number[7::]\n",
    "if phone_number[0:3:] =='010' and len(phone_number) == 11:\n",
    "    print(f'*******{last_number}')\n",
    "else:\n",
    "    print('핸드폰번호를 입력하세요')"
   ]
  },
  {
   "cell_type": "code",
   "execution_count": 280,
   "metadata": {},
   "outputs": [
    {
     "name": "stdout",
     "output_type": "stream",
     "text": [
      "*******1234\n"
     ]
    }
   ],
   "source": [
    "phone_number = '01012341234'\n",
    "first_number=phone_number[:7:]\n",
    "if phone_number[0:3:] =='010' and len(phone_number) == 11:\n",
    "    for number in first_number:\n",
    "        phone_number = phone_number.replace(number, '*', 1 )\n",
    "else:\n",
    "    print('핸드폰번호를 입력하세요')\n",
    "print(phone_number)\n"
   ]
  },
  {
   "cell_type": "markdown",
   "metadata": {},
   "source": [
    "# 정중앙\n",
    "> 사용자가 입력한 문자열중 가운데 글자를 출력하라. 문자열이 짝수라면 가운데 두글자를 출력하라"
   ]
  },
  {
   "cell_type": "code",
   "execution_count": 321,
   "metadata": {},
   "outputs": [
    {
     "name": "stdout",
     "output_type": "stream",
     "text": [
      "이건엄청긴함수\n",
      "청\n"
     ]
    }
   ],
   "source": [
    "# 아래에 코드를 작성하세요.\n",
    "prent_midle = input('')\n",
    "# prent_midle = '안녕하세요'\n",
    "num = int(len(prent_midle)/2)\n",
    "if len(prent_midle)%2==0:    \n",
    "    print(prent_midle[num-1:num+1:])\n",
    "else:\n",
    "    print(prent_midle[num:num+1:])"
   ]
  },
  {
   "cell_type": "markdown",
   "metadata": {},
   "source": [
    "# 소수 찾기"
   ]
  },
  {
   "cell_type": "markdown",
   "metadata": {},
   "source": [
    "> 조건, 반복문을 응용하여 numbers 리스트의 요소들이 소수인지 아닌지 판단하는 코드를 작성하라.\n",
    "\n",
    "```python\n",
    "numbers = [26, 39, 51, 53, 57, 79, 85]\n",
    "\n",
    "# 출력 예시\n",
    "26 는 소수가 아닙니다. 2 는 26 의 인수입니다.\n",
    "39 는 소수가 아닙니다. 3 는 39 의 인수입니다.\n",
    "51 는 소수가 아닙니다. 3 는 51 의 인수입니다.\n",
    "53 는 소수입니다.\n",
    "57 는 소수가 아닙니다. 3 는 57 의 인수입니다.\n",
    "79 는 소수입니다.\n",
    "85 는 소수가 아닙니다. 5 는 85 의 인수입니다.\n",
    "```"
   ]
  },
  {
   "cell_type": "code",
   "execution_count": 323,
   "metadata": {},
   "outputs": [
    {
     "name": "stdout",
     "output_type": "stream",
     "text": [
      "26는 소수가 아닙니다. 2의 인수입니다.\n",
      "39는 소수가 아닙니다. 3의 인수입니다.\n",
      "51는 소수가 아닙니다. 3의 인수입니다.\n",
      "53는 소수입니다.\n"
     ]
    }
   ],
   "source": [
    "numbers = [26, 39, 51, 53, 57, 79, 85]\n",
    "# 아래에 코드를 작성하세요.\n",
    "\n",
    "for number in numbers:\n",
    "    for i in range(2,number):\n",
    "        if number%i == 0:\n",
    "            print(f'{number}는 소수가 아닙니다. {i}의 인수입니다.')\n",
    "            break\n",
    "    else:\n",
    "        print(f'{number}는 소수입니다.')\n",
    "        break"
   ]
  }
 ],
 "metadata": {
  "kernelspec": {
   "display_name": "Python 3",
   "language": "python",
   "name": "python3"
  },
  "language_info": {
   "codemirror_mode": {
    "name": "ipython",
    "version": 3
   },
   "file_extension": ".py",
   "mimetype": "text/x-python",
   "name": "python",
   "nbconvert_exporter": "python",
   "pygments_lexer": "ipython3",
   "version": "3.7.3"
  },
  "latex_envs": {
   "LaTeX_envs_menu_present": true,
   "autoclose": false,
   "autocomplete": true,
   "bibliofile": "biblio.bib",
   "cite_by": "apalike",
   "current_citInitial": 1,
   "eqLabelWithNumbers": true,
   "eqNumInitial": 1,
   "hotkeys": {
    "equation": "Ctrl-E",
    "itemize": "Ctrl-I"
   },
   "labels_anchors": false,
   "latex_user_defs": false,
   "report_style_numbering": false,
   "user_envs_cfg": false
  },
  "toc": {
   "base_numbering": 1,
   "nav_menu": {},
   "number_sections": true,
   "sideBar": true,
   "skip_h1_title": false,
   "title_cell": "Table of Contents",
   "title_sidebar": "Contents",
   "toc_cell": false,
   "toc_position": {},
   "toc_section_display": true,
   "toc_window_display": false
  }
 },
 "nbformat": 4,
 "nbformat_minor": 2
}
