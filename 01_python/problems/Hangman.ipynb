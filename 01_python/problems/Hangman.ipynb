{
 "cells": [
  {
   "cell_type": "markdown",
   "metadata": {},
   "source": [
    "# 행맨 게임 만들기 "
   ]
  },
  {
   "cell_type": "markdown",
   "metadata": {},
   "source": [
    "## 답안 확인 하기\n",
    "\n",
    "> 행맨 게임을 위한 코드를 작성해봅시다. \n",
    ">\n",
    "> `isanswer(answer, letters)`는 정답 문자열(answer)과 추측 알파벳의 리스트(letters)를 받아서, True/False 결과를 반환합니다.\n",
    "```python\n",
    "isanswer('apple', ['a', 'p', 'l']) #=> False\n",
    "isanswer('apple', ['a', 'p', 'l', 'e']) #=> True\n",
    "```"
   ]
  },
  {
   "cell_type": "code",
   "execution_count": null,
   "metadata": {},
   "outputs": [],
   "source": [
    "# 여기에 코드를 작성하세요."
   ]
  },
  {
   "cell_type": "code",
   "execution_count": 116,
   "metadata": {},
   "outputs": [],
   "source": [
    "def isanswer(answer, letters):\n",
    "    for letter in letters:\n",
    "        if letter in answer:\n",
    "            answer = answer.replace(letter,'',answer.count(letter))\n",
    "    return False if answer else True"
   ]
  },
  {
   "cell_type": "code",
   "execution_count": 117,
   "metadata": {
    "scrolled": true
   },
   "outputs": [
    {
     "name": "stdout",
     "output_type": "stream",
     "text": [
      "False\n",
      "True\n"
     ]
    }
   ],
   "source": [
    "print(isanswer('apple', ['a', 'p', 'l']))\n",
    "print(isanswer('apple', ['a', 'p', 'l', 'e']))"
   ]
  },
  {
   "cell_type": "markdown",
   "metadata": {},
   "source": [
    "## 현재 상태 출력하기\n",
    "\n",
    "> 행맨 게임을 위한 코드를 작성해봅시다. \n",
    ">\n",
    "> `status(answer, letters)`는 정답 문자열(answer)과 추측 알파벳의 리스트(letters)를 받아서, 현재 결과를 반환합니다.\n",
    "```python\n",
    "status('apple', ['a', 'p', 'l']) # => 'appl_'\n",
    "```"
   ]
  },
  {
   "cell_type": "code",
   "execution_count": null,
   "metadata": {},
   "outputs": [],
   "source": [
    "# 여기에 코드를 작성하세요."
   ]
  },
  {
   "cell_type": "code",
   "execution_count": 371,
   "metadata": {},
   "outputs": [
    {
     "name": "stdout",
     "output_type": "stream",
     "text": [
      "['1', '2', 'x', '4', '5']\n"
     ]
    }
   ],
   "source": [
    "a = list('12345')\n",
    "a.insert(a.index('3'), 'x')\n",
    "a.pop(a.index('3'))\n",
    "print(a)\n"
   ]
  },
  {
   "cell_type": "code",
   "execution_count": 177,
   "metadata": {},
   "outputs": [],
   "source": [
    "def status(answer, letters):\n",
    "    result = '_'*len(answer)\n",
    "    for letter in letters:\n",
    "        if letter in answer:\n",
    "            result = result.replace('_', letter, answer.count(letter))\n",
    "            answer = answer.replace(letter,'',answer.count(letter))\n",
    "            print(result)\n",
    "    return False if answer else True"
   ]
  },
  {
   "cell_type": "code",
   "execution_count": 469,
   "metadata": {},
   "outputs": [],
   "source": [
    "def status(answer, letters):\n",
    "    result = list('_'*len(answer))\n",
    "    for letter in letters:\n",
    "        if letter in answer:\n",
    "            for i in range(1,answer.count(letter)+1):                  \n",
    "                result.insert(answer.index(letter), letter)\n",
    "                result.pop(answer.index(letter)+i)\n",
    "                print(''.join(result))\n",
    "    return False if '_' in result else True"
   ]
  },
  {
   "cell_type": "code",
   "execution_count": 470,
   "metadata": {
    "scrolled": true
   },
   "outputs": [
    {
     "name": "stdout",
     "output_type": "stream",
     "text": [
      "a____\n",
      "ap___\n",
      "app__\n",
      "appl_\n",
      "apple\n"
     ]
    },
    {
     "data": {
      "text/plain": [
       "True"
      ]
     },
     "execution_count": 470,
     "metadata": {},
     "output_type": "execute_result"
    }
   ],
   "source": [
    "status('apple', ['a', 'p', 'l','e'])"
   ]
  },
  {
   "cell_type": "markdown",
   "metadata": {},
   "source": [
    "## 행맨 로직 만들기 - 자유코딩!\n",
    "\n",
    "> 위의 코드를 활용하여 `hangman(answer)`를 만들어봅시다!\n",
    ">\n",
    "> 사용자가 답을 맞출 때까지 진행하며, 8번내로 정답을 맞춰야 합니다.\n"
   ]
  },
  {
   "cell_type": "code",
   "execution_count": null,
   "metadata": {},
   "outputs": [],
   "source": [
    "# 자유코딩"
   ]
  },
  {
   "cell_type": "code",
   "execution_count": 478,
   "metadata": {},
   "outputs": [],
   "source": [
    "def hangman(answer):\n",
    "    result = list('_'*len(answer))\n",
    "    count = 0\n",
    "    while count != 8:\n",
    "        letter = input('hanman : ')\n",
    "        if letter in answer:\n",
    "            for i in range(1,answer.count(letter)+1):                  \n",
    "                result.insert(answer.index(letter), letter)\n",
    "                result.pop(answer.index(letter)+i)\n",
    "            else:\n",
    "                print(''.join(result))\n",
    "        count += 1\n",
    "        if not '_' in result:\n",
    "            return True\n",
    "    return False if '_' in result else True"
   ]
  },
  {
   "cell_type": "code",
   "execution_count": 479,
   "metadata": {},
   "outputs": [
    {
     "name": "stdout",
     "output_type": "stream",
     "text": [
      "hanman : a\n",
      "a____\n",
      "hanman : p\n",
      "app__\n",
      "hanman : l\n",
      "appl_\n",
      "hanman : e\n",
      "apple\n"
     ]
    },
    {
     "data": {
      "text/plain": [
       "True"
      ]
     },
     "execution_count": 479,
     "metadata": {},
     "output_type": "execute_result"
    }
   ],
   "source": [
    "hangman('apple')"
   ]
  }
 ],
 "metadata": {
  "kernelspec": {
   "display_name": "Python 3",
   "language": "python",
   "name": "python3"
  },
  "language_info": {
   "codemirror_mode": {
    "name": "ipython",
    "version": 3
   },
   "file_extension": ".py",
   "mimetype": "text/x-python",
   "name": "python",
   "nbconvert_exporter": "python",
   "pygments_lexer": "ipython3",
   "version": "3.7.3"
  },
  "latex_envs": {
   "LaTeX_envs_menu_present": true,
   "autoclose": false,
   "autocomplete": true,
   "bibliofile": "biblio.bib",
   "cite_by": "apalike",
   "current_citInitial": 1,
   "eqLabelWithNumbers": true,
   "eqNumInitial": 1,
   "hotkeys": {
    "equation": "Ctrl-E",
    "itemize": "Ctrl-I"
   },
   "labels_anchors": false,
   "latex_user_defs": false,
   "report_style_numbering": false,
   "user_envs_cfg": false
  },
  "toc": {
   "base_numbering": 1,
   "nav_menu": {},
   "number_sections": true,
   "sideBar": true,
   "skip_h1_title": false,
   "title_cell": "Table of Contents",
   "title_sidebar": "Contents",
   "toc_cell": false,
   "toc_position": {},
   "toc_section_display": true,
   "toc_window_display": false
  }
 },
 "nbformat": 4,
 "nbformat_minor": 2
}
